{
 "cells": [
  {
   "cell_type": "code",
   "execution_count": 15,
   "metadata": {},
   "outputs": [
    {
     "name": "stdout",
     "output_type": "stream",
     "text": [
      "     S.No.        Country    2022-2023   %Share    2023-2024  %Share.1  \\\n",
      "222    223          U S A  63015151.31  17.4001  64176635.11   17.7335   \n",
      "220    221    U ARAB EMTS  25385238.28   7.0095  29509436.52    8.1541   \n",
      "148    149     NETHERLAND  17440918.30   4.8159  18526011.14    5.1192   \n",
      "43      44     CHINA P RP  12277398.94   3.3901  13796645.41    3.8123   \n",
      "17      18  BANGLADESH PR   9778450.59   2.7001   9165197.84    2.5326   \n",
      "185    186      SINGAPORE   9618496.34   2.6559  11939242.02    3.2991   \n",
      "221    222            U K   9171501.11   2.5325  10696405.18    2.9557   \n",
      "180    181     SAUDI ARAB   8627137.38   2.3822   9571446.82    2.6448   \n",
      "78      79        GERMANY   8139690.83   2.2476   8145944.04    2.2509   \n",
      "95      96      INDONESIA   8033518.43   2.2183   4951517.09    1.3682   \n",
      "29      30         BRAZIL   7960684.39   2.1981   4980912.58    1.3763   \n",
      "92      93      HONG KONG   7949741.89   2.1951   6829915.45    1.8873   \n",
      "216    217         TURKEY   7726043.46   2.1334   5505980.24    1.5214   \n",
      "20      21        BELGIUM   7099803.30   1.9604   6486226.29    1.7923   \n",
      "100    101          ITALY   6976287.42   1.9263   7255314.30    2.0048   \n",
      "99     100         ISRAEL   6827425.31   1.8852   3748205.03    1.0357   \n",
      "191    192   SOUTH AFRICA   6787323.04   1.8741   7208657.83    1.9919   \n",
      "147    148          NEPAL   6477320.15   1.7885   5827488.22    1.6103   \n",
      "74      75         FRANCE   6104859.40   1.6857   5912406.11    1.6337   \n",
      "125    126       MALAYSIA   5726516.72   1.5812   6016559.47    1.6625   \n",
      "\n",
      "     %Growth  \n",
      "222     1.84  \n",
      "220    16.25  \n",
      "148     6.22  \n",
      "43     12.37  \n",
      "17     -6.27  \n",
      "185    24.13  \n",
      "221    16.63  \n",
      "180    10.95  \n",
      "78      0.08  \n",
      "95    -38.36  \n",
      "29    -37.43  \n",
      "92    -14.09  \n",
      "216   -28.73  \n",
      "20     -8.64  \n",
      "100     4.00  \n",
      "99    -45.10  \n",
      "191     6.21  \n",
      "147   -10.03  \n",
      "74     -3.15  \n",
      "125     5.06  \n"
     ]
    }
   ],
   "source": [
    "# Load the CSV file to inspect its contents and pick out the top 5 countries based on growth percentage\n",
    "import pandas as pd\n",
    "file_path_csv = '/workspaces/placement-training/Python/EDA/data/country_wise.csv'\n",
    "\n",
    "# Read the CSV file\n",
    "df = pd.read_csv(file_path_csv)\n",
    "\n",
    "df['%Share'] = pd.to_numeric(df['%Share'], errors='coerce')\n",
    "\n",
    "# Sort the DataFrame by 'growth%' in descending order and pick the top 5 countries\n",
    "top_share = df.sort_values(by='%Share', ascending=False).head(20)\n",
    "\n",
    "# Display the result\n",
    "print(top_share)"
   ]
  },
  {
   "cell_type": "code",
   "execution_count": 16,
   "metadata": {},
   "outputs": [
    {
     "name": "stdout",
     "output_type": "stream",
     "text": [
      "     S.No.      Country    2022-2023  %Share    2023-2024  %Share.1  %Growth\n",
      "185    186    SINGAPORE   9618496.34  2.6559  11939242.02    3.2991    24.13\n",
      "221    222          U K   9171501.11  2.5325  10696405.18    2.9557    16.63\n",
      "220    221  U ARAB EMTS  25385238.28  7.0095  29509436.52    8.1541    16.25\n",
      "43      44   CHINA P RP  12277398.94  3.3901  13796645.41    3.8123    12.37\n",
      "180    181   SAUDI ARAB   8627137.38  2.3822   9571446.82    2.6448    10.95\n"
     ]
    }
   ],
   "source": [
    "# Sorting the 'top_share' DataFrame by '%Growth' in descending order\n",
    "top_growth = top_share.sort_values(by='%Growth', ascending=False).head(5)\n",
    "\n",
    "# Display the result\n",
    "print(top_growth)"
   ]
  }
 ],
 "metadata": {
  "kernelspec": {
   "display_name": ".venv",
   "language": "python",
   "name": "python3"
  },
  "language_info": {
   "codemirror_mode": {
    "name": "ipython",
    "version": 3
   },
   "file_extension": ".py",
   "mimetype": "text/x-python",
   "name": "python",
   "nbconvert_exporter": "python",
   "pygments_lexer": "ipython3",
   "version": "3.12.1"
  }
 },
 "nbformat": 4,
 "nbformat_minor": 2
}
